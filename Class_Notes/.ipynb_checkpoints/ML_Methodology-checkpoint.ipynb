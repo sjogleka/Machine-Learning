{
 "cells": [
  {
   "cell_type": "markdown",
   "metadata": {
    "slideshow": {
     "slide_type": "slide"
    }
   },
   "source": [
    "$\\newcommand{\\xv}{\\mathbf{x}}\n",
    " \\newcommand{\\wv}{\\mathbf{w}}\n",
    " \\newcommand{\\yv}{\\mathbf{y}}\n",
    " \\newcommand{\\zv}{\\mathbf{z}}\n",
    " \\newcommand{\\uv}{\\mathbf{u}}\n",
    " \\newcommand{\\vv}{\\mathbf{v}}\n",
    " \\newcommand{\\Chi}{\\mathcal{X}}\n",
    " \\newcommand{\\R}{\\rm I\\!R}\n",
    " \\newcommand{\\sign}{\\text{sign}}\n",
    " \\newcommand{\\Tm}{\\mathbf{T}}\n",
    " \\newcommand{\\Xm}{\\mathbf{X}}\n",
    " \\newcommand{\\Zm}{\\mathbf{Z}}\n",
    " \\newcommand{\\Im}{\\mathbf{I}}\n",
    " \\newcommand{\\Um}{\\mathbf{U}}\n",
    " \\newcommand{\\Vm}{\\mathbf{V}} \n",
    " \\newcommand{\\muv}{\\boldsymbol\\mu}\n",
    " \\newcommand{\\Sigmav}{\\boldsymbol\\Sigma}\n",
    " \\newcommand{\\Lambdav}{\\boldsymbol\\Lambda}\n",
    "$\n",
    "\n",
    "# ML Methodology \n",
    "\n",
    "\n",
    "### Spring 2019\n",
    "\n",
    "### Minwoo \"Jake\" Lee"
   ]
  },
  {
   "cell_type": "markdown",
   "metadata": {
    "slideshow": {
     "slide_type": "slide"
    }
   },
   "source": [
    "# Today\n",
    "\n",
    "- Polynomial Regression for Nonlinearity\n",
    "- Generalization\n",
    "- Bias-Variance Tradeoff\n",
    "- Regularization\n",
    "- CV"
   ]
  },
  {
   "cell_type": "markdown",
   "metadata": {
    "slideshow": {
     "slide_type": "slide"
    }
   },
   "source": [
    "# Review: Classification Measures\n",
    "\n"
   ]
  },
  {
   "cell_type": "markdown",
   "metadata": {
    "slideshow": {
     "slide_type": "fragment"
    }
   },
   "source": [
    "- Accuracy"
   ]
  },
  {
   "cell_type": "markdown",
   "metadata": {
    "slideshow": {
     "slide_type": "fragment"
    }
   },
   "source": [
    "- Confusion Matrix"
   ]
  },
  {
   "cell_type": "markdown",
   "metadata": {
    "slideshow": {
     "slide_type": "fragment"
    }
   },
   "source": [
    "- Precision, Recall, and Specificity"
   ]
  },
  {
   "cell_type": "markdown",
   "metadata": {
    "slideshow": {
     "slide_type": "fragment"
    }
   },
   "source": [
    "- F1-Score"
   ]
  },
  {
   "cell_type": "markdown",
   "metadata": {
    "slideshow": {
     "slide_type": "fragment"
    }
   },
   "source": [
    "- MCC "
   ]
  },
  {
   "cell_type": "markdown",
   "metadata": {
    "slideshow": {
     "slide_type": "fragment"
    }
   },
   "source": [
    "- ROC and AUC"
   ]
  },
  {
   "cell_type": "markdown",
   "metadata": {
    "slideshow": {
     "slide_type": "fragment"
    }
   },
   "source": [
    "- PR (Precision-Recall) Curvecv"
   ]
  },
  {
   "cell_type": "markdown",
   "metadata": {
    "slideshow": {
     "slide_type": "fragment"
    }
   },
   "source": [
    "> \"You should prefer the PR curve whenever the positive class is rare or when you care more about the false positives than the false negatives, and the ROC curve otherwise.\""
   ]
  },
  {
   "cell_type": "code",
   "execution_count": 14,
   "metadata": {},
   "outputs": [
    {
     "name": "stdout",
     "output_type": "stream",
     "text": [
      "End of training:  99\n"
     ]
    },
    {
     "data": {
      "text/plain": [
       "<matplotlib.text.Text at 0x11c3fc390>"
      ]
     },
     "execution_count": 14,
     "metadata": {},
     "output_type": "execute_result"
    }
   ],
   "source": [
    "###############################################\n",
    "# Perceptron classifier\n",
    "def train_perceptron(X, T, **params):\n",
    "    maxiter = params.pop('maxiter', 1000)\n",
    "    alpha = params.pop('alpha', 0.1)\n",
    "    init = params.pop('init', \"rand\")\n",
    "    bverbose = params.pop('verbose', False)\n",
    "    \n",
    "    if init == 'zero':\n",
    "        w = np.zeros(X.shape[1])\n",
    "    else:\n",
    "        w = np.random.rand(X.shape[1]) \n",
    "\n",
    "    for i in range(maxiter):\n",
    "        converged = True\n",
    "        for k in range(N):\n",
    "            y = w @ X[k]\n",
    "            if np.sign(y) != np.sign(T[k]):\n",
    "                w += alpha * T[k] * X[k]\n",
    "                converged = False\n",
    "\n",
    "        if converged:\n",
    "            if bverbose: print(\"converged at \", i)\n",
    "            break\n",
    "    if bverbose: \n",
    "        print(\"End of training: \", i)\n",
    "    return w\n",
    "\n",
    "def predict_linear(X, w):\n",
    "    return X @ w\n",
    "\n",
    "\n",
    "###############################################\n",
    "# ROC and PR\n",
    "def roc_pr(Y, T):\n",
    "    fprs = []\n",
    "    tprs = []\n",
    "    pres = []\n",
    "    recs = []\n",
    "    #sorted_i = np.argsort(Y)\n",
    "\n",
    "    for thres in sorted(Y)[::-1]:\n",
    "\n",
    "        n_TP = np.logical_and( Y >= thres, T == 1).sum()\n",
    "        n_FP = np.logical_and( Y >= thres, T == -1).sum()\n",
    "        n_TN = np.logical_and( Y < thres, T == -1).sum()\n",
    "        n_FN = np.logical_and( Y < thres, T == 1).sum()\n",
    "\n",
    "        #print(n_TP, n_FP, n_TN, n_FN)\n",
    "\n",
    "        fpr = n_FP / (n_FP + n_TN) \n",
    "        tpr = n_TP / (n_TP + n_FN) \n",
    "        fprs.append(fpr)\n",
    "        tprs.append(tpr)\n",
    "        precision = n_TP / (n_TP + n_FP) \n",
    "        recall = n_TP / (n_TP + n_FN)\n",
    "        pres.append(precision)\n",
    "        recs.append(recall)\n",
    "    \n",
    "    return fprs, tprs, recs, pres\n",
    "\n",
    "\n",
    "def roc_curve(fprs, tprs):\n",
    "    plt.plot(fprs, tprs)\n",
    "    plt.xlabel(\"P(FP)\")\n",
    "    plt.ylabel(\"P(TP)\")\n",
    "    \n",
    "def pr_curve(recs, pres):\n",
    "    plt.plot(recs, pres)\n",
    "    plt.xlabel(\"Recall\")\n",
    "    plt.ylabel(\"Precesion\")  \n",
    "    \n",
    "    \n",
    "\n",
    "###############################################\n",
    "# sample data\n",
    "    \n",
    "nC1 = 180\n",
    "nC2 = 20       ########## <------- smaller class 2!\n",
    "N = nC1 + nC2\n",
    "\n",
    "# Example data\n",
    "mu1 = [-1, -1]\n",
    "cov1 = np.eye(2)\n",
    "\n",
    "mu2 = [2,3]\n",
    "cov2 = np.eye(2) * 10\n",
    "\n",
    "C1 = np.random.multivariate_normal(mu1, cov1, nC1)\n",
    "C2 = np.random.multivariate_normal(mu2, cov2, nC2)\n",
    "\n",
    "plt.plot(C1[:, 0], C1[:, 1], 'or')\n",
    "plt.plot(C2[:, 0], C2[:, 1], 'xb')\n",
    "\n",
    "plt.xlim([-3, 6])\n",
    "plt.ylim([-3, 7])\n",
    "\n",
    "X = np.vstack((C1, C2))\n",
    "T = np.ones(N)\n",
    "T[:nC1] *= -1 \n",
    "\n",
    "\n",
    "###############################################\n",
    "# train the model\n",
    "perceptron = train_perceptron(X, T, maxiter=100, alpha=0.1, verbose=True)\n",
    "Y = predict_linear(X, perceptron)\n",
    "\n",
    "plt.plot(T)\n",
    "plt.plot(Y)\n",
    "\n",
    "\n",
    "###############################################\n",
    "# plot ROC and PR Curves\n",
    "measures = roc_pr(Y, T)\n",
    "plt.figure(figsize=(10,5))\n",
    "plt.subplot(121)\n",
    "roc_curve(*measures[:2])\n",
    "plt.title(\"ROC Curve\")\n",
    "plt.subplot(122)\n",
    "pr_curve(*measures[2:])\n",
    "plt.title(\"PR Curve\")\n"
   ]
  },
  {
   "cell_type": "markdown",
   "metadata": {
    "slideshow": {
     "slide_type": "slide"
    }
   },
   "source": [
    "# Review: Regression Measures\n",
    "\n"
   ]
  },
  {
   "cell_type": "markdown",
   "metadata": {
    "slideshow": {
     "slide_type": "slide"
    }
   },
   "source": [
    "- mean absolute error (MAE) = $\\frac{1}{N} \\sum \\vert t - y \\vert$\n",
    "  - simple & intuitive sum of residuals"
   ]
  },
  {
   "cell_type": "markdown",
   "metadata": {
    "slideshow": {
     "slide_type": "fragment"
    }
   },
   "source": [
    "- mean squared error (MSE) = $\\frac{1}{N} \\sum (t - y)^2$\n",
    "  - outliers are highly penalized than MAE\n",
    "  - why RMSE?"
   ]
  },
  {
   "cell_type": "markdown",
   "metadata": {
    "slideshow": {
     "slide_type": "fragment"
    }
   },
   "source": [
    "- mean absolute percentage error (MAPE) = $\\frac{100 \\%}{N} \\sum \\vert \\frac{t - y}{t} \\vert$\n",
    "  - scaling with the actual target values\n",
    "  - biased towards less values than target"
   ]
  },
  {
   "cell_type": "markdown",
   "metadata": {
    "slideshow": {
     "slide_type": "fragment"
    }
   },
   "source": [
    "- mean percentage error (MAPE) = $\\frac{100 \\%}{N} \\sum \\big( \\frac{t - y}{t} \\big)$\n",
    "  - absence of absolute values: not good estimation of overall performance\n",
    "  - tells us if a model **underestimates** or **overestimates** (systematic errors)"
   ]
  },
  {
   "cell_type": "markdown",
   "metadata": {
    "slideshow": {
     "slide_type": "slide"
    }
   },
   "source": [
    "- R-squared ($R^2$) error = $1 - \\frac{\\text{Variation of Erros (residuals)}}{\\text{Total Variation}} = 1 - \\frac{\\sum_i (y_i - t_i)^2}{\\sum_i (y_i - \\bar{y})^2}$\n",
    "  - comparison of varirances\n",
    "  - how to read? - 100% means the model explains all the variability of the response around the mean"
   ]
  },
  {
   "cell_type": "code",
   "execution_count": 12,
   "metadata": {
    "slideshow": {
     "slide_type": "slide"
    }
   },
   "outputs": [
    {
     "data": {
      "image/png": "[encoded data removed]",
      "text/plain": [
       "<matplotlib.figure.Figure at 0x11bb3b320>"
      ]
     },
     "metadata": {},
     "output_type": "display_data"
    }
   ],
   "source": [
    "import numpy as np\n",
    "from sklearn.svm import SVR\n",
    "from sklearn.linear_model import LinearRegression\n",
    "from sklearn.pipeline import Pipeline\n",
    "from sklearn.preprocessing import PolynomialFeatures\n",
    "import matplotlib.pyplot as plt\n",
    "\n",
    "# #############################################################################\n",
    "# Generate sample data\n",
    "X = np.sort(5 * np.random.rand(40, 1), axis=0)\n",
    "t = np.sin(X).ravel()\n",
    "\n",
    "# #############################################################################\n",
    "# Add noise to targets\n",
    "t[::5] += 3 * (0.5 - np.random.rand(8))\n",
    "\n",
    "\n",
    "names = [\"Linear Regression\", \"Polinomial Regression\", \"RBF SVR\", \n",
    "         \"Linear SBR\", \"Polinomial SVR\"]\n",
    "colors = [\"navy\", \"c\", \"cornflowerblue\", \"olive\", \"seagreen\"]\n",
    "\n",
    "# #############################################################################\n",
    "# Regression models\n",
    "regressors = [\n",
    "    LinearRegression(),\n",
    "    Pipeline([('poly', PolynomialFeatures(degree=3)),\n",
    "                ('linear', LinearRegression(fit_intercept=False))]),\n",
    "    SVR(kernel='rbf', C=1e3, gamma=0.1),\n",
    "    SVR(kernel='linear', C=1e3),\n",
    "    SVR(kernel='poly', C=1e3, degree=2)\n",
    "]\n",
    "\n",
    "i = 1\n",
    "\n",
    "plt.figure(figsize=(20,4))\n",
    "plt.subplot(1, len(regressors) + 1, i)\n",
    "plt.scatter(X, t, color='darkorange', label='data')\n",
    "lw = 2\n",
    "\n",
    "for name, color, regr in zip(names, colors, regressors):\n",
    "\n",
    "\n",
    "    # #############################################################################\n",
    "    # Fit regression model\n",
    "    regr.fit(X, t)\n",
    "    # #############################################################################\n",
    "    # Prediction\n",
    "    y = regr.predict(X)\n",
    "v\n",
    "    # #############################################################################\n",
    "    # Look at the results\n",
    "    i += 1\n",
    "    plt.subplot(1, len(regressors) + 1, i)\n",
    "    plt.scatter(X, t, color='darkorange', label='data')\n",
    "    plt.plot(X, y, color=color, lw=lw, label=name)\n",
    "    \n",
    "    # #############################################################################\n",
    "    # Regression Measures\n",
    "    MAE = np.mean(np.abs(t-y))\n",
    "    MSE = np.mean((t-y)**2)\n",
    "    MAPE = 100 * np.mean(np.abs((t-y)/t))\n",
    "    MPE = 100 * np.mean((t-y)/t)\n",
    "    R2 = 1 - np.sum((y-t)**2) / np.sum((t - np.mean(t))**2)\n",
    "    #print(\"R2 = \", R2)\n",
    "    s_title =   \" MAE = \" + str(MAE) +\\\n",
    "                \"\\n MSE = \" + str(MSE) +\\\n",
    "                \"\\n MAPE = \" + str(MAPE) +\\\n",
    "                \"\\n MPE = \" + str(MPE) +\\\n",
    "                \"\\n $R^2$ =\" + str(R2)\n",
    "    plt.title(name)\n",
    "    plt.xlabel(s_title)\n",
    "plt.ylabel('target')\n",
    "plt.legend()\n",
    "plt.show()"
   ]
  },
  {
   "cell_type": "markdown",
   "metadata": {
    "slideshow": {
     "slide_type": "slide"
    }
   },
   "source": [
    "# Review: Clustering Measures"
   ]
  },
  {
   "cell_type": "markdown",
   "metadata": {
    "slideshow": {
     "slide_type": "fragment"
    }
   },
   "source": [
    "* With GT\n",
    "  * Adjusted Rand Index (ARI), Normalized Mutual Information (NMI), Adjusted Mutual Information (AMI)\n",
    "  * Homogeneity and completeness, V-measure"
   ]
  },
  {
   "cell_type": "markdown",
   "metadata": {
    "slideshow": {
     "slide_type": "fragment"
    }
   },
   "source": [
    "* Without GT\n",
    "  * Sihouette Score\n",
    "  * Calinski-Harabaz Index"
   ]
  },
  {
   "cell_type": "markdown",
   "metadata": {
    "slideshow": {
     "slide_type": "fragment"
    }
   },
   "source": [
    "For more, https://scikit-learn.org/stable/modules/clustering.html#clustering-performance-evaluation"
   ]
  },
  {
   "cell_type": "markdown",
   "metadata": {
    "slideshow": {
     "slide_type": "fragment"
    }
   },
   "source": [
    "# Learning Curve"
   ]
  },
  {
   "cell_type": "code",
   "execution_count": 28,
   "metadata": {
    "slideshow": {
     "slide_type": "fragment"
    }
   },
   "outputs": [
    {
     "data": {
      "image/png": "[encoded data removed]",
      "text/plain": [
       "<matplotlib.figure.Figure at 0x118079828>"
      ]
     },
     "metadata": {},
     "output_type": "display_data"
    }
   ],
   "source": []
  },
  {
   "cell_type": "markdown",
   "metadata": {
    "slideshow": {
     "slide_type": "slide"
    }
   },
   "source": [
    "# Polynomial Regression\n",
    "\n",
    "\n",
    "- Linear Model\n",
    "\n",
    "$$ f(\\xv; \\wv) = w_0 + w_1 x_1 + w_2 x_2 + w_3 x_3 $$\n",
    "\n",
    "\n",
    "- Polynomial \n",
    "\n",
    "$$ f(\\xv; \\wv) = w_0 + w_1 x_1 + w_2 x_2 + w_3 x_3 +  w_4 x_1^2 + w_5 x_2^2 + w_6 x_3^2 +  w_7 x_1^3 + w_8 x_2^3 + w_9 x_3^3 + \\cdots $$\n"
   ]
  },
  {
   "cell_type": "code",
   "execution_count": 26,
   "metadata": {
    "collapsed": true,
    "slideshow": {
     "slide_type": "slide"
    }
   },
   "outputs": [],
   "source": [
    "import numpy as np\n",
    "import matplotlib.pyplot as plt\n",
    "%matplotlib inline\n",
    "from copy import deepcopy as copy\n",
    "\n",
    "# Polinomial regression\n",
    "def poly_regress(x, d=3, t=None, **params):\n",
    "    bnorm = params.pop('normalize', False)\n",
    "    \n",
    "    X_poly = []\n",
    "    # append polynomial terms\n",
    "    for i in range(d+1):\n",
    "        X_poly.append(x**i)\n",
    "    \n",
    "    X_poly = np.vstack(X_poly).T\n",
    "    \n",
    "    # normalize \n",
    "    if bnorm:\n",
    "        mu, sd = np.mean(X_poly[:, 1:, None], axis=0), np.std(X_poly[:, 1:, None], axis=0)\n",
    "        X_poly[:, 1:] = (X_poly[:, 1:] - mu.flat) / sd.flat\n",
    "        \n",
    "    # least sqaures\n",
    "    if t is not None:\n",
    "        w = np.linalg.lstsq(X_poly.T @ X_poly, X_poly.T @ t)[0]\n",
    "        \n",
    "        if bnorm:\n",
    "            return X_poly, mu, sd, w\n",
    "        return X_poly, w\n",
    "    \n",
    "    if bnorm:\n",
    "        return X_poly, mu, sd\n",
    "    return X_poly\n"
   ]
  },
  {
   "cell_type": "code",
   "execution_count": 27,
   "metadata": {
    "slideshow": {
     "slide_type": "slide"
    }
   },
   "outputs": [
    {
     "data": {
      "text/plain": [
       "[<matplotlib.lines.Line2D at 0x11bbb0710>]"
      ]
     },
     "execution_count": 27,
     "metadata": {},
     "output_type": "execute_result"
    },
    {
     "data": {
      "image/png": "[encoded data removed]",
      "text/plain": [
       "<matplotlib.figure.Figure at 0x11b5eabe0>"
      ]
     },
     "metadata": {},
     "output_type": "display_data"
    }
   ],
   "source": [
    "# training points\n",
    "x = np.arange(3)\n",
    "t = copy(x)\n",
    "\n",
    "# scatter plot\n",
    "def plot_data():\n",
    "    plt.plot(x, t, \"o\", markersize=10)\n",
    "\n",
    "    \n",
    "# Training two models\n",
    "_, wp = poly_regress(x, 3, t)\n",
    "_, w  = poly_regress(x, 1, t)\n",
    "    \n",
    "# Test data\n",
    "xtest = np.arange(11)-5\n",
    "Xtest = poly_regress(xtest, 1)\n",
    "Xptest = poly_regress(xtest, 3)\n",
    "yptest = Xptest @ wp\n",
    "ytest = Xtest @ w\n",
    "\n",
    "plot_data()\n",
    "plt.plot(xtest, ytest)\n",
    "plt.plot(xtest, yptest)"
   ]
  },
  {
   "cell_type": "code",
   "execution_count": 29,
   "metadata": {
    "slideshow": {
     "slide_type": "notes"
    }
   },
   "outputs": [
    {
     "name": "stdout",
     "output_type": "stream",
     "text": [
      "  % Total    % Received % Xferd  Average Speed   Time    Time     Time  Current\n",
      "                                 Dload  Upload   Total   Spent    Left  Speed\n",
      "100  395k  100  395k    0     0   523k      0 --:--:-- --:--:-- --:--:--  556k\n"
     ]
    }
   ],
   "source": [
    "!curl https://raw.githubusercontent.com/ageron/handson-ml/master/datasets/lifesat/oecd_bli_2015.csv > oecd_bli_2015.csv"
   ]
  },
  {
   "cell_type": "code",
   "execution_count": 31,
   "metadata": {
    "slideshow": {
     "slide_type": "notes"
    }
   },
   "outputs": [
    {
     "name": "stdout",
     "output_type": "stream",
     "text": [
      "  % Total    % Received % Xferd  Average Speed   Time    Time     Time  Current\n",
      "                                 Dload  Upload   Total   Spent    Left  Speed\n",
      "100 36323  100 36323    0     0  77914      0 --:--:-- --:--:-- --:--:-- 81624\n"
     ]
    }
   ],
   "source": [
    "!curl https://raw.githubusercontent.com/ageron/handson-ml/master/datasets/lifesat/gdp_per_capita.csv > gdp_per_capita.csv"
   ]
  },
  {
   "cell_type": "code",
   "execution_count": 34,
   "metadata": {
    "slideshow": {
     "slide_type": "notes"
    }
   },
   "outputs": [
    {
     "data": {
      "image/png": "[encoded data removed]",
      "text/plain": [
       "<matplotlib.figure.Figure at 0x11dd7ec88>"
      ]
     },
     "metadata": {},
     "output_type": "display_data"
    },
    {
     "data": {
      "image/png": "[encoded data removed]",
      "text/plain": [
       "<matplotlib.figure.Figure at 0x11e30bcf8>"
      ]
     },
     "metadata": {},
     "output_type": "display_data"
    }
   ],
   "source": [
    "import os\n",
    "import pandas as pd\n",
    "import sklearn\n",
    "\n",
    "def prepare_country_stats(oecd_bli, gdp_per_capita):\n",
    "    oecd_bli = oecd_bli[oecd_bli[\"INEQUALITY\"]==\"TOT\"]\n",
    "    oecd_bli = oecd_bli.pivot(index=\"Country\", columns=\"Indicator\", values=\"Value\")\n",
    "    gdp_per_capita.rename(columns={\"2015\": \"GDP per capita\"}, inplace=True)\n",
    "    gdp_per_capita.set_index(\"Country\", inplace=True)\n",
    "    full_country_stats = pd.merge(left=oecd_bli, right=gdp_per_capita,\n",
    "                                  left_index=True, right_index=True)\n",
    "    full_country_stats.sort_values(by=\"GDP per capita\", inplace=True)\n",
    "    remove_indices = [0, 1, 6, 8, 33, 34, 35]\n",
    "    keep_indices = list(set(range(36)) - set(remove_indices))\n",
    "    return full_country_stats[[\"GDP per capita\", 'Life satisfaction']].iloc[keep_indices], full_country_stats[[\"GDP per capita\", 'Life satisfaction']]\n",
    "    \n",
    "\n",
    "# Load the data\n",
    "oecd_bli = pd.read_csv(\"oecd_bli_2015.csv\", thousands=',')\n",
    "gdp_per_capita = pd.read_csv(\"gdp_per_capita.csv\",thousands=',',delimiter='\\t',\n",
    "                             encoding='latin1', na_values=\"n/a\")\n",
    "\n",
    "\n",
    "# Prepare the data\n",
    "country_stats, full_country_stats = prepare_country_stats(oecd_bli, gdp_per_capita)\n",
    "X = np.c_[country_stats[\"GDP per capita\"]]\n",
    "y = np.c_[country_stats[\"Life satisfaction\"]]\n",
    "\n",
    "# Visualize the data\n",
    "country_stats.plot(kind='scatter', x=\"GDP per capita\", y='Life satisfaction', figsize=(6.5,4))\n",
    "plt.axis([0, 60000, 0, 10])\n",
    "plt.show()\n",
    "\n",
    "\n",
    "# Data for training\n",
    "Xfull = np.c_[full_country_stats[\"GDP per capita\"]]\n",
    "yfull = np.c_[full_country_stats[\"Life satisfaction\"]]\n",
    "\n",
    "# Visualize the full data\n",
    "# Visualize the data\n",
    "full_country_stats.plot(kind='scatter', x=\"GDP per capita\", y='Life satisfaction', figsize=(12,4))\n",
    "plt.axis([0, 110000, 0, 10])\n",
    "plt.show()\n"
   ]
  },
  {
   "cell_type": "code",
   "execution_count": 37,
   "metadata": {
    "slideshow": {
     "slide_type": "slide"
    }
   },
   "outputs": [],
   "source": [
    "# polynomial model to this data\n",
    "\n",
    "def fit_poly(deg):\n",
    "    plt.figure();\n",
    "    full_country_stats.plot(kind='scatter', x=\"GDP per capita\", y='Life satisfaction',\n",
    "                            figsize=(12,4));\n",
    "    plt.axis([0, 110000, 3, 10]);\n",
    "    Xp, mu, sd, wp = poly_regress(Xfull.flatten(), deg, yfull.flatten(), normalize=True)\n",
    "    yp1 = Xp @ wp\n",
    "\n",
    "    # plot curve \n",
    "    plt.plot(Xfull, yp1, 'r-', label=deg);\n",
    "    plt.title(\"degree: {}\".format(deg));\n",
    "\n"
   ]
  },
  {
   "cell_type": "code",
   "execution_count": 38,
   "metadata": {
    "slideshow": {
     "slide_type": "slide"
    }
   },
   "outputs": [
    {
     "data": {
      "text/plain": [
       "<matplotlib.figure.Figure at 0x11e981940>"
      ]
     },
     "metadata": {},
     "output_type": "display_data"
    },
    {
     "data": {
      "image/png": "[encoded data removed]",
      "text/plain": [
       "<matplotlib.figure.Figure at 0x10ec36a58>"
      ]
     },
     "metadata": {},
     "output_type": "display_data"
    }
   ],
   "source": [
    "fit_poly(1)"
   ]
  },
  {
   "cell_type": "code",
   "execution_count": 39,
   "metadata": {
    "slideshow": {
     "slide_type": "slide"
    }
   },
   "outputs": [
    {
     "data": {
      "text/plain": [
       "<matplotlib.figure.Figure at 0x11e1cd080>"
      ]
     },
     "metadata": {},
     "output_type": "display_data"
    },
    {
     "data": {
      "image/png": "[encoded data removed]",
      "text/plain": [
       "<matplotlib.figure.Figure at 0x11e3107f0>"
      ]
     },
     "metadata": {},
     "output_type": "display_data"
    }
   ],
   "source": [
    "fit_poly(2)"
   ]
  },
  {
   "cell_type": "code",
   "execution_count": 40,
   "metadata": {
    "slideshow": {
     "slide_type": "slide"
    }
   },
   "outputs": [
    {
     "data": {
      "text/plain": [
       "<matplotlib.figure.Figure at 0x11dd7e518>"
      ]
     },
     "metadata": {},
     "output_type": "display_data"
    },
    {
     "data": {
      "image/png": "[encoded data removed]",
      "text/plain": [
       "<matplotlib.figure.Figure at 0x10ec36ba8>"
      ]
     },
     "metadata": {},
     "output_type": "display_data"
    }
   ],
   "source": [
    "fit_poly(5)"
   ]
  },
  {
   "cell_type": "code",
   "execution_count": 41,
   "metadata": {
    "slideshow": {
     "slide_type": "slide"
    }
   },
   "outputs": [
    {
     "data": {
      "text/plain": [
       "<matplotlib.figure.Figure at 0x11de9d6d8>"
      ]
     },
     "metadata": {},
     "output_type": "display_data"
    },
    {
     "data": {
      "image/png": "[encoded data removed]",
      "text/plain": [
       "<matplotlib.figure.Figure at 0x11ea6cf98>"
      ]
     },
     "metadata": {},
     "output_type": "display_data"
    }
   ],
   "source": [
    "fit_poly(10)"
   ]
  },
  {
   "cell_type": "code",
   "execution_count": 42,
   "metadata": {
    "slideshow": {
     "slide_type": "slide"
    }
   },
   "outputs": [
    {
     "data": {
      "text/plain": [
       "<matplotlib.figure.Figure at 0x11e1786a0>"
      ]
     },
     "metadata": {},
     "output_type": "display_data"
    },
    {
     "data": {
      "image/png": "[encoded data removed]",
      "text/plain": [
       "<matplotlib.figure.Figure at 0x11ddc8630>"
      ]
     },
     "metadata": {},
     "output_type": "display_data"
    }
   ],
   "source": [
    "fit_poly(30)"
   ]
  },
  {
   "cell_type": "markdown",
   "metadata": {
    "slideshow": {
     "slide_type": "slide"
    }
   },
   "source": [
    "# Overfitting\n",
    "\n",
    "\n",
    "* learned hypothesis $h$\n",
    "* hypothesis from another model $h^\\prime$\n",
    "\n",
    "$$ E_{train}(h) < E_{train}(h^\\prime) \\wedge E_{test}(h) > E_{test}(h^\\prime).$$\n"
   ]
  },
  {
   "cell_type": "markdown",
   "metadata": {
    "slideshow": {
     "slide_type": "slide"
    }
   },
   "source": [
    "# Bias-Variance Tradeoff\n",
    "\n",
    "\n",
    "- high bias error: under-performing model that misses the important trends\n",
    "- high variance error: excessively sensitive to small variations in the training data\n",
    "- Irreducible error: genuine to the noise in the data. Need to clean up the data\n",
    "\n",
    "![](http://webpages.uncc.edu/mlee173/teach/itcs6156/images/class/bias-and-variance.jpg)\n",
    "<center>From Understanding the Bias-Variance Tradeoff, by Scott Fortmann-Roe</center>"
   ]
  },
  {
   "cell_type": "markdown",
   "metadata": {
    "slideshow": {
     "slide_type": "slide"
    }
   },
   "source": [
    "# Regularization\n",
    "\n"
   ]
  },
  {
   "cell_type": "markdown",
   "metadata": {
    "slideshow": {
     "slide_type": "slide"
    }
   },
   "source": [
    "# Occam's razor\n",
    "\n",
    "> entities must not be multiplied beyond necessity\n",
    "\n",
    "<img width=500 src=\"https://hunter-iq.com/wp-content/uploads/sites/4/2016/09/hiqoccamsrazor.png\"/>\n"
   ]
  },
  {
   "cell_type": "markdown",
   "metadata": {
    "slideshow": {
     "slide_type": "slide"
    }
   },
   "source": [
    "# Regularization\n",
    "\n",
    "\n",
    "* penalize on the over-complexity of a model\n",
    "\n",
    "$$\n",
    "\\begin{align*}\n",
    "E(\\wv) &= \\sum_i^N ( y_i - t_i)^2 + \\lambda \\lVert \\wv \\rVert_2^2  \\\\\n",
    "  \\\\\n",
    "  &= \\sum_i^N ( y_i - t_i)^2 + \\lambda \\sum_k^D w_k^2 \\\\\n",
    "  \\\\\n",
    "  &= (\\Xm \\wv - T)^\\top (\\Xm \\wv - T)  + \\lambda \\wv^\\top \\wv \\\\\n",
    "  \\\\\n",
    "  &= \\wv^\\top \\Xm^\\top \\Xm \\wv - 2 \\Tm^\\top \\Xm \\wv + \\Tm^\\top \\Tm  + \\lambda \\wv^\\top \\wv \n",
    "\\end{align*}\n",
    "$$\n"
   ]
  },
  {
   "cell_type": "markdown",
   "metadata": {
    "slideshow": {
     "slide_type": "slide"
    }
   },
   "source": [
    "# Regularization\n",
    "\n",
    "$$\n",
    "\\begin{align*}\n",
    "\\frac{\\partial E(\\wv)}{\\partial \\wv} &= \\frac{\\partial (\\Xm \\wv - \\Tm)^\\top (\\Xm \\wv - \\Tm)}{\\partial \\wv} + \\frac{\\partial \\lambda \\wv^\\top \\wv}{\\partial \\wv} \\\\\n",
    "        \\\\\n",
    "        &= 2 \\Xm^\\top \\Xm \\wv - 2 \\Xm^\\top \\Tm + 2 \\lambda \\wv\n",
    "\\end{align*}\n",
    "$$"
   ]
  },
  {
   "cell_type": "markdown",
   "metadata": {
    "slideshow": {
     "slide_type": "slide"
    }
   },
   "source": [
    "# Regularization (Ridge Regression)\n",
    "\n",
    "$$\n",
    "\\begin{align*}\n",
    " 2 \\Xm^\\top \\Xm \\wv - 2 \\Xm^\\top \\Tm  + 2 \\lambda \\wv = 0\\\\\n",
    "\\big(\\Xm^\\top \\Xm + \\lambda \\Im \\big) \\wv = \\Xm^\\top \\Tm\\\\\n",
    "\\wv = \\big(\\Xm^\\top \\Xm + \\lambda \\Im \\big)^{-1} \\Xm^\\top \\Tm.\n",
    "\\end{align*}\n",
    "$$\n"
   ]
  },
  {
   "cell_type": "markdown",
   "metadata": {
    "slideshow": {
     "slide_type": "slide"
    }
   },
   "source": [
    "# k-fold Cross Validation\n",
    "\n",
    ">  Choose K for K-fold cross validation.\n",
    "\n",
    ">  Set nfold = 0. \n",
    "\n",
    ">  Initialize the lists *res* = [], *testErrs* = [].\n",
    "\n",
    ">  Split data X and label T into K number of partitions.\n",
    "\n",
    ">  For each TEST partition \n",
    "\n",
    ">>  For each validation partition among the rest partitions \n",
    "\n",
    ">>>  Choose the rest partitions into a training set.\n",
    "\n",
    ">>>  For each set __P__ of parameters to test\n",
    "\n",
    ">>>>   Using __P__, train the model \n",
    "\n",
    ">>>>   Use the trained model on the validation data\n",
    "\n",
    ">>>>   Evaluate the validation result and store the restuls to *res*\n",
    "\n",
    ">>  From the *res* result, pick the one with the best result.\n",
    "\n",
    ">>  Retrain the model with the best parameter __p__ in __P__.\n",
    "\n",
    ">>  Apply the model with the best parameter __p*__ to the test dataset. \n",
    "\n",
    ">>  Evaluate the result *err* and store the tuple (__p*__, *err*) to *testErrs*. \n",
    "\n",
    ">  Return *testErrs*. \n"
   ]
  },
  {
   "cell_type": "markdown",
   "metadata": {
    "slideshow": {
     "slide_type": "slide"
    }
   },
   "source": [
    "# Feature Selection \n",
    "\n",
    "* Goal\n",
    "  * Reduces overfitting\n",
    "  * Improves accuracy\n",
    "  * Reduces training time"
   ]
  },
  {
   "cell_type": "markdown",
   "metadata": {
    "slideshow": {
     "slide_type": "slide"
    }
   },
   "source": [
    "# Feature Selection \n",
    "\n",
    "* Methods\n",
    "  * Filter Methods\n",
    "    - a statistical measure to score each feature\n",
    "    - $\\chi^2$-test, information gain, correlation coefficient scores\n",
    "    <img src=\"https://upload.wikimedia.org/wikipedia/commons/2/2c/Filter_Methode.png\" width=600/>\n",
    "  * Wrapper Methods\n",
    "    - a search of a set of features\n",
    "    - a predictive model to evaluate them\n",
    "    <img src=\"https://upload.wikimedia.org/wikipedia/commons/0/04/Feature_selection_Wrapper_Method.png\" width=600/>\n",
    "  * Embedded Methods\n",
    "    - learn best features while the model is learning\n",
    "    - regularization\n",
    "    <img src=\"https://upload.wikimedia.org/wikipedia/commons/b/bf/Feature_selection_Embedded_Method.png\" width=600/>"
   ]
  },
  {
   "cell_type": "markdown",
   "metadata": {
    "slideshow": {
     "slide_type": "slide"
    }
   },
   "source": [
    "# Next\n",
    "\n",
    "* Neural Networks"
   ]
  }
 ],
 "metadata": {
  "celltoolbar": "Slideshow",
  "kernelspec": {
   "display_name": "Python 3",
   "language": "python",
   "name": "python3"
  },
  "language_info": {
   "codemirror_mode": {
    "name": "ipython",
    "version": 3
   },
   "file_extension": ".py",
   "mimetype": "text/x-python",
   "name": "python",
   "nbconvert_exporter": "python",
   "pygments_lexer": "ipython3",
   "version": "3.7.1"
  }
 },
 "nbformat": 4,
 "nbformat_minor": 1
}
